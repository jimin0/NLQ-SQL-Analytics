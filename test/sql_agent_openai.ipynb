{
 "cells": [
  {
   "cell_type": "markdown",
   "metadata": {},
   "source": [
    "## 환경 설정 (API KEY, langsmith, db)"
   ]
  },
  {
   "cell_type": "code",
   "execution_count": 1,
   "metadata": {},
   "outputs": [
    {
     "data": {
      "text/plain": [
       "True"
      ]
     },
     "execution_count": 1,
     "metadata": {},
     "output_type": "execute_result"
    }
   ],
   "source": [
    "## 환경\n",
    "from dotenv import load_dotenv\n",
    "import warnings\n",
    "import os\n",
    "\n",
    "warnings.filterwarnings(\"ignore\")\n",
    "load_dotenv()"
   ]
  },
  {
   "cell_type": "code",
   "execution_count": null,
   "metadata": {},
   "outputs": [],
   "source": [
    "from langchain_teddynote import logging\n",
    "\n",
    "# 프로젝트 이름을 입력합니다. 추적 안 하고싶으면 set_enalbel =Fasle로 설정\n",
    "logging.langsmith(\"wiset-final\")"
   ]
  },
  {
   "cell_type": "code",
   "execution_count": 3,
   "metadata": {},
   "outputs": [],
   "source": [
    "from langchain.sql_database import SQLDatabase\n",
    "from sqlalchemy import create_engine, inspect, text\n",
    "import os\n",
    "\n",
    "db_path = os.getenv(\"DB_PATH\")\n",
    "if not os.path.exists(db_path):\n",
    "    raise Exception(\"데이터베이스 파일이 존재하지 않습니다.\")\n",
    "\n",
    "db_uri = f\"sqlite:///{db_path}\"\n",
    "\n",
    "# 엔진 생성\n",
    "engine = create_engine(db_uri)\n",
    "\n",
    "# 엔진 생성\n",
    "engine = create_engine(db_uri)\n",
    "\n",
    "# SQLDatabase 인스턴스 생성 시 엔진 객체 전달\n",
    "db = SQLDatabase(engine)"
   ]
  },
  {
   "cell_type": "code",
   "execution_count": 4,
   "metadata": {},
   "outputs": [
    {
     "name": "stdout",
     "output_type": "stream",
     "text": [
      "['Categories', 'CustomerCustomerDemo', 'CustomerDemographics', 'Customers', 'EmployeeTerritories', 'Employees', 'Order Details', 'Orders', 'Products', 'Regions', 'Shippers', 'Suppliers', 'Territories']\n",
      "sqlite\n"
     ]
    }
   ],
   "source": [
    "from langchain_community.agent_toolkits import create_sql_agent\n",
    "from langchain_openai import ChatOpenAI\n",
    "from langchain.callbacks.manager import CallbackManager\n",
    "from langchain.callbacks.streaming_stdout import StreamingStdOutCallbackHandler\n",
    "from langchain_core.prompts import ChatPromptTemplate\n",
    "\n",
    "# 사용 가능한 테이블 이름 출력\n",
    "print(db.get_usable_table_names())\n",
    "\n",
    "print(db.dialect)"
   ]
  },
  {
   "cell_type": "markdown",
   "metadata": {},
   "source": [
    "## Cahin"
   ]
  },
  {
   "cell_type": "code",
   "execution_count": 5,
   "metadata": {},
   "outputs": [
    {
     "name": "stdout",
     "output_type": "stream",
     "text": [
      "input_variables=['question', 'schema'] messages=[HumanMessagePromptTemplate(prompt=PromptTemplate(input_variables=['question', 'schema'], template=\"\\nBased on the table schema below, write a SQL query that wold answer the user's question:\\n{schema}\\n\\nQuestion: {question}\\nSQL Query\\n\"))]\n"
     ]
    }
   ],
   "source": [
    "from langchain_core.prompts import ChatPromptTemplate\n",
    "\n",
    "template = \"\"\"\n",
    "Based on the table schema below, write a SQL query that wold answer the user's question:\n",
    "{schema}\n",
    "\n",
    "Question: {question}\n",
    "SQL Query\n",
    "\"\"\"\n",
    "\n",
    "prompt = ChatPromptTemplate.from_template(template)\n",
    "\n",
    "print(prompt)"
   ]
  },
  {
   "cell_type": "code",
   "execution_count": 6,
   "metadata": {},
   "outputs": [],
   "source": [
    "def get_schema(_):\n",
    "    return db.get_table_info()"
   ]
  },
  {
   "cell_type": "code",
   "execution_count": 7,
   "metadata": {},
   "outputs": [],
   "source": [
    "from langchain_core.output_parsers import StrOutputParser\n",
    "from langchain_core.runnables import RunnablePassthrough\n",
    "from langchain_openai import ChatOpenAI"
   ]
  },
  {
   "cell_type": "code",
   "execution_count": 8,
   "metadata": {},
   "outputs": [],
   "source": [
    "llm = ChatOpenAI()\n",
    "\n",
    "sql_chain =(\n",
    "    RunnablePassthrough.assign(schema=get_schema)\n",
    "    | prompt \n",
    "    | llm.bind(stop=\"\\nSQL Result:\")\n",
    "    | StrOutputParser()\n",
    ")"
   ]
  },
  {
   "cell_type": "code",
   "execution_count": 9,
   "metadata": {},
   "outputs": [
    {
     "data": {
      "text/plain": [
       "'SELECT COUNT(EmployeeID) AS TotalEmployees\\nFROM Employees;'"
      ]
     },
     "execution_count": 9,
     "metadata": {},
     "output_type": "execute_result"
    }
   ],
   "source": [
    "sql_chain.invoke({\"question\": \"How may Employees are there?\"})\n"
   ]
  },
  {
   "cell_type": "code",
   "execution_count": 10,
   "metadata": {},
   "outputs": [],
   "source": [
    "template = \"\"\"\n",
    "Based on the table schema below, qustion, sql query and sql response, write a natural language response that would answer the user's question:\n",
    "{schema}\n",
    "\n",
    "Question: {question}\n",
    "SQL Query: {query}\n",
    "SQL Response: {response}\"\"\"\n",
    "prompt = ChatPromptTemplate.from_template(template)\n"
   ]
  },
  {
   "cell_type": "code",
   "execution_count": 11,
   "metadata": {},
   "outputs": [],
   "source": [
    "def run_query(query):\n",
    "    return db.run(query)"
   ]
  },
  {
   "cell_type": "code",
   "execution_count": 12,
   "metadata": {},
   "outputs": [
    {
     "data": {
      "text/plain": [
       "'[(9,)]'"
      ]
     },
     "execution_count": 12,
     "metadata": {},
     "output_type": "execute_result"
    }
   ],
   "source": [
    "run_query(\"SELECT COUNT(*) AS TotalEmployees FROM Employees;\")"
   ]
  },
  {
   "cell_type": "code",
   "execution_count": 13,
   "metadata": {},
   "outputs": [],
   "source": [
    "full_chain = (\n",
    "    RunnablePassthrough.assign(query=sql_chain).assign(\n",
    "        schema = get_schema,\n",
    "        #response = lambda variables: print(variables)\n",
    "        response = lambda variables: run_query(variables[\"query\"])\n",
    "    )\n",
    "    | prompt\n",
    "    | llm\n",
    "    | StrOutputParser()\n",
    ")"
   ]
  },
  {
   "cell_type": "code",
   "execution_count": 14,
   "metadata": {},
   "outputs": [
    {
     "data": {
      "text/plain": [
       "'There are a total of 9 employees in the company.'"
      ]
     },
     "execution_count": 14,
     "metadata": {},
     "output_type": "execute_result"
    }
   ],
   "source": [
    "full_chain.invoke({\"question\": \"How many Employees are there?\"})"
   ]
  },
  {
   "cell_type": "markdown",
   "metadata": {},
   "source": [
    "## AGENT"
   ]
  },
  {
   "cell_type": "code",
   "execution_count": 46,
   "metadata": {},
   "outputs": [
    {
     "name": "stdout",
     "output_type": "stream",
     "text": [
      "\n",
      "\n",
      "\u001b[1m> Entering new SQL Agent Executor chain...\u001b[0m\n",
      "\u001b[32;1m\u001b[1;3mTo answer the question about the number of employees, I need to find the relevant table that contains employee information. I will start by listing the tables in the database.\n",
      "\n",
      "Action: sql_db_list_tables  \n",
      "Action Input: \"\"  \u001b[0m\u001b[38;5;200m\u001b[1;3mCategories, CustomerCustomerDemo, CustomerDemographics, Customers, EmployeeTerritories, Employees, Order Details, Orders, Products, Regions, Shippers, Suppliers, Territories\u001b[0m\u001b[32;1m\u001b[1;3mTo answer the question about the number of employees, I need to check the \"Employees\" table, as it likely contains the relevant information about employees. I will query the schema of the \"Employees\" table to understand its structure.\n",
      "\n",
      "Action: sql_db_schema  \n",
      "Action Input: \"Employees\"  \u001b[0m\u001b[33;1m\u001b[1;3m\n",
      "CREATE TABLE \"Employees\" (\n",
      "\t\"EmployeeID\" INTEGER, \n",
      "\t\"LastName\" TEXT, \n",
      "\t\"FirstName\" TEXT, \n",
      "\t\"Title\" TEXT, \n",
      "\t\"TitleOfCourtesy\" TEXT, \n",
      "\t\"BirthDate\" DATE, \n",
      "\t\"HireDate\" DATE, \n",
      "\t\"Address\" TEXT, \n",
      "\t\"City\" TEXT, \n",
      "\t\"Region\" TEXT, \n",
      "\t\"PostalCode\" TEXT, \n",
      "\t\"Country\" TEXT, \n",
      "\t\"HomePhone\" TEXT, \n",
      "\t\"Extension\" TEXT, \n",
      "\t\"Photo\" BLOB, \n",
      "\t\"Notes\" TEXT, \n",
      "\t\"ReportsTo\" INTEGER, \n",
      "\t\"PhotoPath\" TEXT, \n",
      "\tPRIMARY KEY (\"EmployeeID\"), \n",
      "\tFOREIGN KEY(\"ReportsTo\") REFERENCES \"Employees\" (\"EmployeeID\")\n",
      ")\n",
      "\n",
      "/*\n",
      "3 rows from Employees table:\n",
      "EmployeeID\tLastName\tFirstName\tTitle\tTitleOfCourtesy\tBirthDate\tHireDate\tAddress\tCity\tRegion\tPostalCode\tCountry\tHomePhone\tExtension\tPhoto\tNotes\tReportsTo\tPhotoPath\n",
      "1\tDavolio\tNancy\tSales Representative\tMs.\t1968-12-08\t2012-05-01\t507 - 20th Ave. E.Apt. 2A\tSeattle\tNorth America\t98122\tUSA\t(206) 555-9857\t5467\tb'\\xff\\xd8\\xff\\xe0\\x00\\x10JFIF\\x00\\x01\\x02\\x00\\x00d\\x00d\\x00\\x00\\xff\\xec\\x00\\x11Ducky\\x00\\x01\\x00\\x0\tEducation includes a BA in psychology from Colorado State University in 1970.  She also completed \"T\t2\thttp://accweb/emmployees/davolio.bmp\n",
      "2\tFuller\tAndrew\tVice President, Sales\tDr.\t1972-02-19\t2012-08-14\t908 W. Capital Way\tTacoma\tNorth America\t98401\tUSA\t(206) 555-9482\t3457\tb'\\xff\\xd8\\xff\\xe0\\x00\\x10JFIF\\x00\\x01\\x02\\x00\\x00d\\x00d\\x00\\x00\\xff\\xec\\x00\\x11Ducky\\x00\\x01\\x00\\x0\tAndrew received his BTS commercial in 1974 and a Ph.D. in international marketing from the Universit\tNone\thttp://accweb/emmployees/fuller.bmp\n",
      "3\tLeverling\tJanet\tSales Representative\tMs.\t1983-08-30\t2012-04-01\t722 Moss Bay Blvd.\tKirkland\tNorth America\t98033\tUSA\t(206) 555-3412\t3355\tb'\\xff\\xd8\\xff\\xe0\\x00\\x10JFIF\\x00\\x01\\x02\\x00\\x00d\\x00d\\x00\\x00\\xff\\xec\\x00\\x11Ducky\\x00\\x01\\x00\\x0\tJanet has a BS degree in chemistry from Boston College (1984).  She has also completed a certificate\t2\thttp://accweb/emmployees/leverling.bmp\n",
      "*/\u001b[0m\u001b[32;1m\u001b[1;3mTo find out how many employees there are, I will count the number of rows in the \"Employees\" table.\n",
      "\n",
      "Action: sql_db_query_checker  \n",
      "Action Input: \"SELECT COUNT(*) FROM Employees;\"  \u001b[0m\u001b[36;1m\u001b[1;3m```sql\n",
      "SELECT COUNT(*) FROM Employees;\n",
      "```\u001b[0m\u001b[32;1m\u001b[1;3mTo find out how many employees there are, I will execute the query to count the number of rows in the \"Employees\" table.\n",
      "\n",
      "Action: sql_db_query  \n",
      "Action Input: \"SELECT COUNT(*) FROM Employees;\"  \u001b[0m\u001b[36;1m\u001b[1;3m[(9,)]\u001b[0m\u001b[32;1m\u001b[1;3mI have determined the number of employees in the database.\n",
      "\n",
      "Final Answer: 직원은 9명입니다.\u001b[0m\n",
      "\n",
      "\u001b[1m> Finished chain.\u001b[0m\n",
      "{'input': '직원은 몇명이야?', 'output': '직원은 9명입니다.'}\n"
     ]
    }
   ],
   "source": [
    "from langchain.agents import create_sql_agent\n",
    "from langchain.agents.agent_types import AgentType\n",
    "from langchain.sql_database import SQLDatabase\n",
    "from langchain_openai import ChatOpenAI\n",
    "from langchain.agents.agent_toolkits import SQLDatabaseToolkit\n",
    "from langchain.callbacks.streaming_stdout import StreamingStdOutCallbackHandler\n",
    "from langchain.prompts import PromptTemplate\n",
    "from langchain.agents.output_parsers import ReActSingleInputOutputParser\n",
    "\n",
    "\n",
    "# llm \n",
    "llm = ChatOpenAI(model=\"gpt-4o-mini\", temperature=0, streaming=True)\n",
    "\n",
    "# Create SQL toolkit\n",
    "toolkit = SQLDatabaseToolkit(db=db, llm=llm)\n",
    "\n",
    "#  prompt 템플릿\n",
    "custom_prompt = PromptTemplate.from_template(\n",
    "    \"\"\"You are an AI assistant for querying {dialect} databases. Answer the following question by creating and running SQL queries.\n",
    "\n",
    "    Available tools:\n",
    "    {tools}\n",
    "\n",
    "    Use the following format:\n",
    "\n",
    "    Question: {input}\n",
    "    Thought: Consider what information is needed to answer the question\n",
    "    Action: The action to take, should be one of {tool_names}\n",
    "    Action Input: The input for the action\n",
    "    Observation: The result of the action\n",
    "    ... (this Thought/Action/Action Input/Observation can repeat N times)\n",
    "    Thought: I now know the final answer\n",
    "    Final Answer: The natural language response to the original input question\n",
    "\n",
    "    {agent_scratchpad}\n",
    "\n",
    "    Begin!\n",
    "\n",
    "    Question: {input}\n",
    "    Thought: \"\"\"\n",
    ")\n",
    "\n",
    "# agent\n",
    "agent_executor = create_sql_agent(\n",
    "    llm=llm,\n",
    "    toolkit=toolkit,\n",
    "    verbose=True,\n",
    "    agent_type=AgentType.ZERO_SHOT_REACT_DESCRIPTION,\n",
    "    prompt=custom_prompt,\n",
    "    handle_parsing_errors=True,\n",
    "    callback_manager=CallbackManager([StreamingStdOutCallbackHandler()]),\n",
    ")\n",
    "\n",
    "# Run agent\n",
    "response = agent_executor.invoke({\"input\": \"직원은 몇명이야?\"})\n",
    "print(response)\n"
   ]
  }
 ],
 "metadata": {
  "kernelspec": {
   "display_name": "wiset-final",
   "language": "python",
   "name": "python3"
  },
  "language_info": {
   "codemirror_mode": {
    "name": "ipython",
    "version": 3
   },
   "file_extension": ".py",
   "mimetype": "text/x-python",
   "name": "python",
   "nbconvert_exporter": "python",
   "pygments_lexer": "ipython3",
   "version": "3.11.9"
  }
 },
 "nbformat": 4,
 "nbformat_minor": 2
}
