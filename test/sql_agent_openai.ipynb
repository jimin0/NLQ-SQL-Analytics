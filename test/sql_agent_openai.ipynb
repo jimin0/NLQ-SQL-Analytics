{
 "cells": [
  {
   "cell_type": "markdown",
   "metadata": {},
   "source": [
    "## 환경 설정 (API KEY, langsmith, db)"
   ]
  },
  {
   "cell_type": "code",
   "execution_count": 1,
   "metadata": {},
   "outputs": [
    {
     "data": {
      "text/plain": [
       "True"
      ]
     },
     "execution_count": 1,
     "metadata": {},
     "output_type": "execute_result"
    }
   ],
   "source": [
    "## 환경\n",
    "from dotenv import load_dotenv\n",
    "import warnings\n",
    "import os\n",
    "\n",
    "warnings.filterwarnings(\"ignore\")\n",
    "load_dotenv()"
   ]
  },
  {
   "cell_type": "code",
   "execution_count": null,
   "metadata": {},
   "outputs": [],
   "source": [
    "from langchain_teddynote import logging\n",
    "\n",
    "# 프로젝트 이름을 입력합니다. 추적 안 하고싶으면 set_enalbel =Fasle로 설정\n",
    "logging.langsmith(\"wiset-final\")"
   ]
  },
  {
   "cell_type": "code",
   "execution_count": 3,
   "metadata": {},
   "outputs": [],
   "source": [
    "from langchain.sql_database import SQLDatabase\n",
    "from sqlalchemy import create_engine, inspect, text\n",
    "import os\n",
    "\n",
    "db_path = os.getenv(\"DB_PATH\")\n",
    "if not os.path.exists(db_path):\n",
    "    raise Exception(\"데이터베이스 파일이 존재하지 않습니다.\")\n",
    "\n",
    "db_uri = f\"sqlite:///{db_path}\"\n",
    "\n",
    "# 엔진 생성\n",
    "engine = create_engine(db_uri)\n",
    "\n",
    "# 엔진 생성\n",
    "engine = create_engine(db_uri)\n",
    "\n",
    "# SQLDatabase 인스턴스 생성 시 엔진 객체 전달\n",
    "db = SQLDatabase(engine)"
   ]
  },
  {
   "cell_type": "code",
   "execution_count": 4,
   "metadata": {},
   "outputs": [
    {
     "name": "stdout",
     "output_type": "stream",
     "text": [
      "['Categories', 'CustomerCustomerDemo', 'CustomerDemographics', 'Customers', 'EmployeeTerritories', 'Employees', 'Order Details', 'Orders', 'Products', 'Regions', 'Shippers', 'Suppliers', 'Territories']\n",
      "sqlite\n"
     ]
    }
   ],
   "source": [
    "from langchain_community.agent_toolkits import create_sql_agent\n",
    "from langchain_openai import ChatOpenAI\n",
    "from langchain.callbacks.manager import CallbackManager\n",
    "from langchain.callbacks.streaming_stdout import StreamingStdOutCallbackHandler\n",
    "from langchain_core.prompts import ChatPromptTemplate\n",
    "\n",
    "# 사용 가능한 테이블 이름 출력\n",
    "print(db.get_usable_table_names())\n",
    "\n",
    "print(db.dialect)"
   ]
  },
  {
   "cell_type": "markdown",
   "metadata": {},
   "source": [
    "## Cahin"
   ]
  },
  {
   "cell_type": "code",
   "execution_count": 5,
   "metadata": {},
   "outputs": [
    {
     "name": "stdout",
     "output_type": "stream",
     "text": [
      "input_variables=['question', 'schema'] messages=[HumanMessagePromptTemplate(prompt=PromptTemplate(input_variables=['question', 'schema'], template=\"\\nBased on the table schema below, write a SQL query that wold answer the user's question:\\n{schema}\\n\\nQuestion: {question}\\nSQL Query\\n\"))]\n"
     ]
    }
   ],
   "source": [
    "from langchain_core.prompts import ChatPromptTemplate\n",
    "\n",
    "template = \"\"\"\n",
    "Based on the table schema below, write a SQL query that wold answer the user's question:\n",
    "{schema}\n",
    "\n",
    "Question: {question}\n",
    "SQL Query\n",
    "\"\"\"\n",
    "\n",
    "prompt = ChatPromptTemplate.from_template(template)\n",
    "\n",
    "print(prompt)"
   ]
  },
  {
   "cell_type": "code",
   "execution_count": 6,
   "metadata": {},
   "outputs": [],
   "source": [
    "def get_schema(_):\n",
    "    return db.get_table_info()"
   ]
  },
  {
   "cell_type": "code",
   "execution_count": 7,
   "metadata": {},
   "outputs": [],
   "source": [
    "from langchain_core.output_parsers import StrOutputParser\n",
    "from langchain_core.runnables import RunnablePassthrough\n",
    "from langchain_openai import ChatOpenAI"
   ]
  },
  {
   "cell_type": "code",
   "execution_count": 8,
   "metadata": {},
   "outputs": [],
   "source": [
    "llm = ChatOpenAI()\n",
    "\n",
    "sql_chain =(\n",
    "    RunnablePassthrough.assign(schema=get_schema)\n",
    "    | prompt \n",
    "    | llm.bind(stop=\"\\nSQL Result:\")\n",
    "    | StrOutputParser()\n",
    ")"
   ]
  },
  {
   "cell_type": "code",
   "execution_count": 9,
   "metadata": {},
   "outputs": [
    {
     "data": {
      "text/plain": [
       "'SELECT COUNT(EmployeeID) AS TotalEmployees\\nFROM Employees;'"
      ]
     },
     "execution_count": 9,
     "metadata": {},
     "output_type": "execute_result"
    }
   ],
   "source": [
    "sql_chain.invoke({\"question\": \"How may Employees are there?\"})\n"
   ]
  },
  {
   "cell_type": "code",
   "execution_count": 10,
   "metadata": {},
   "outputs": [],
   "source": [
    "template = \"\"\"\n",
    "Based on the table schema below, qustion, sql query and sql response, write a natural language response that would answer the user's question:\n",
    "{schema}\n",
    "\n",
    "Question: {question}\n",
    "SQL Query: {query}\n",
    "SQL Response: {response}\"\"\"\n",
    "prompt = ChatPromptTemplate.from_template(template)\n"
   ]
  },
  {
   "cell_type": "code",
   "execution_count": 11,
   "metadata": {},
   "outputs": [],
   "source": [
    "def run_query(query):\n",
    "    return db.run(query)"
   ]
  },
  {
   "cell_type": "code",
   "execution_count": 12,
   "metadata": {},
   "outputs": [
    {
     "data": {
      "text/plain": [
       "'[(9,)]'"
      ]
     },
     "execution_count": 12,
     "metadata": {},
     "output_type": "execute_result"
    }
   ],
   "source": [
    "run_query(\"SELECT COUNT(*) AS TotalEmployees FROM Employees;\")"
   ]
  },
  {
   "cell_type": "code",
   "execution_count": 13,
   "metadata": {},
   "outputs": [],
   "source": [
    "full_chain = (\n",
    "    RunnablePassthrough.assign(query=sql_chain).assign(\n",
    "        schema = get_schema,\n",
    "        #response = lambda variables: print(variables)\n",
    "        response = lambda variables: run_query(variables[\"query\"])\n",
    "    )\n",
    "    | prompt\n",
    "    | llm\n",
    "    | StrOutputParser()\n",
    ")"
   ]
  },
  {
   "cell_type": "code",
   "execution_count": 14,
   "metadata": {},
   "outputs": [
    {
     "data": {
      "text/plain": [
       "'There are a total of 9 employees in the company.'"
      ]
     },
     "execution_count": 14,
     "metadata": {},
     "output_type": "execute_result"
    }
   ],
   "source": [
    "full_chain.invoke({\"question\": \"How many Employees are there?\"})"
   ]
  },
  {
   "cell_type": "markdown",
   "metadata": {},
   "source": [
    "## AGENT"
   ]
  },
  {
   "cell_type": "code",
   "execution_count": 48,
   "metadata": {},
   "outputs": [
    {
     "name": "stdout",
     "output_type": "stream",
     "text": [
      "\n",
      "\n",
      "\u001b[1m> Entering new SQL Agent Executor chain...\u001b[0m\n",
      "\u001b[32;1m\u001b[1;3mTo answer the question about the number of employees, I need to find the relevant table that contains employee information. \n",
      "\n",
      "Action: sql_db_list_tables  \n",
      "Action Input: \"\"  \u001b[0m\u001b[38;5;200m\u001b[1;3mCategories, CustomerCustomerDemo, CustomerDemographics, Customers, EmployeeTerritories, Employees, Order Details, Orders, Products, Regions, Shippers, Suppliers, Territories\u001b[0m\u001b[32;1m\u001b[1;3mTo answer the question about the number of employees, I need to find the relevant table that contains employee information. The \"Employees\" table seems to be the one I need to query.\n",
      "\n",
      "Action: sql_db_schema  \n",
      "Action Input: Employees  \u001b[0m\u001b[33;1m\u001b[1;3m\n",
      "CREATE TABLE \"Employees\" (\n",
      "\t\"EmployeeID\" INTEGER, \n",
      "\t\"LastName\" TEXT, \n",
      "\t\"FirstName\" TEXT, \n",
      "\t\"Title\" TEXT, \n",
      "\t\"TitleOfCourtesy\" TEXT, \n",
      "\t\"BirthDate\" DATE, \n",
      "\t\"HireDate\" DATE, \n",
      "\t\"Address\" TEXT, \n",
      "\t\"City\" TEXT, \n",
      "\t\"Region\" TEXT, \n",
      "\t\"PostalCode\" TEXT, \n",
      "\t\"Country\" TEXT, \n",
      "\t\"HomePhone\" TEXT, \n",
      "\t\"Extension\" TEXT, \n",
      "\t\"Photo\" BLOB, \n",
      "\t\"Notes\" TEXT, \n",
      "\t\"ReportsTo\" INTEGER, \n",
      "\t\"PhotoPath\" TEXT, \n",
      "\tPRIMARY KEY (\"EmployeeID\"), \n",
      "\tFOREIGN KEY(\"ReportsTo\") REFERENCES \"Employees\" (\"EmployeeID\")\n",
      ")\n",
      "\n",
      "/*\n",
      "3 rows from Employees table:\n",
      "EmployeeID\tLastName\tFirstName\tTitle\tTitleOfCourtesy\tBirthDate\tHireDate\tAddress\tCity\tRegion\tPostalCode\tCountry\tHomePhone\tExtension\tPhoto\tNotes\tReportsTo\tPhotoPath\n",
      "1\tDavolio\tNancy\tSales Representative\tMs.\t1968-12-08\t2012-05-01\t507 - 20th Ave. E.Apt. 2A\tSeattle\tNorth America\t98122\tUSA\t(206) 555-9857\t5467\tb'\\xff\\xd8\\xff\\xe0\\x00\\x10JFIF\\x00\\x01\\x02\\x00\\x00d\\x00d\\x00\\x00\\xff\\xec\\x00\\x11Ducky\\x00\\x01\\x00\\x0\tEducation includes a BA in psychology from Colorado State University in 1970.  She also completed \"T\t2\thttp://accweb/emmployees/davolio.bmp\n",
      "2\tFuller\tAndrew\tVice President, Sales\tDr.\t1972-02-19\t2012-08-14\t908 W. Capital Way\tTacoma\tNorth America\t98401\tUSA\t(206) 555-9482\t3457\tb'\\xff\\xd8\\xff\\xe0\\x00\\x10JFIF\\x00\\x01\\x02\\x00\\x00d\\x00d\\x00\\x00\\xff\\xec\\x00\\x11Ducky\\x00\\x01\\x00\\x0\tAndrew received his BTS commercial in 1974 and a Ph.D. in international marketing from the Universit\tNone\thttp://accweb/emmployees/fuller.bmp\n",
      "3\tLeverling\tJanet\tSales Representative\tMs.\t1983-08-30\t2012-04-01\t722 Moss Bay Blvd.\tKirkland\tNorth America\t98033\tUSA\t(206) 555-3412\t3355\tb'\\xff\\xd8\\xff\\xe0\\x00\\x10JFIF\\x00\\x01\\x02\\x00\\x00d\\x00d\\x00\\x00\\xff\\xec\\x00\\x11Ducky\\x00\\x01\\x00\\x0\tJanet has a BS degree in chemistry from Boston College (1984).  She has also completed a certificate\t2\thttp://accweb/emmployees/leverling.bmp\n",
      "*/\u001b[0m\u001b[32;1m\u001b[1;3mTo find out how many employees there are, I need to count the number of rows in the \"Employees\" table.\n",
      "\n",
      "Action: sql_db_query_checker  \n",
      "Action Input: \"SELECT COUNT(*) FROM Employees;\"  \u001b[0m\u001b[36;1m\u001b[1;3m```sql\n",
      "SELECT COUNT(*) FROM Employees;\n",
      "```\u001b[0m\u001b[32;1m\u001b[1;3mTo find out how many employees there are, I need to count the number of rows in the \"Employees\" table.\n",
      "\n",
      "Action: sql_db_query  \n",
      "Action Input: \"SELECT COUNT(*) FROM Employees;\"  \u001b[0m\u001b[36;1m\u001b[1;3m[(9,)]\u001b[0m\u001b[32;1m\u001b[1;3mTo find out how many employees there are, I have counted the number of rows in the \"Employees\" table, which returned a count of 9.\n",
      "\n",
      "Final Answer: 직원은 9명입니다.\u001b[0m\n",
      "\n",
      "\u001b[1m> Finished chain.\u001b[0m\n",
      "직원은 9명입니다.\n"
     ]
    }
   ],
   "source": [
    "from langchain.agents import create_sql_agent\n",
    "from langchain.agents.agent_types import AgentType\n",
    "from langchain.sql_database import SQLDatabase\n",
    "from langchain_openai import ChatOpenAI\n",
    "from langchain.agents.agent_toolkits import SQLDatabaseToolkit\n",
    "from langchain.callbacks.streaming_stdout import StreamingStdOutCallbackHandler\n",
    "from langchain.prompts import PromptTemplate\n",
    "from langchain.agents.output_parsers import ReActSingleInputOutputParser\n",
    "\n",
    "\n",
    "# llm \n",
    "llm = ChatOpenAI(model=\"gpt-4o-mini\", temperature=0, streaming=True)\n",
    "\n",
    "# Create SQL toolkit\n",
    "toolkit = SQLDatabaseToolkit(db=db, llm=llm)\n",
    "\n",
    "#  prompt 템플릿\n",
    "custom_prompt = PromptTemplate.from_template(\n",
    "    \"\"\"You are an AI assistant for querying {dialect} databases. Answer the following question by creating and running SQL queries.\n",
    "\n",
    "    Available tools:\n",
    "    {tools}\n",
    "\n",
    "    Use the following format:\n",
    "\n",
    "    Question: {input}\n",
    "    Thought: Consider what information is needed to answer the question\n",
    "    Action: The action to take, should be one of {tool_names}\n",
    "    Action Input: The input for the action\n",
    "    Observation: The result of the action\n",
    "    ... (this Thought/Action/Action Input/Observation can repeat N times)\n",
    "    Thought: I now know the final answer\n",
    "    Final Answer: The natural language response to the original input question\n",
    "\n",
    "    {agent_scratchpad}\n",
    "\n",
    "    Begin!\n",
    "\n",
    "    Question: {input}\n",
    "    Thought: \"\"\"\n",
    ")\n",
    "\n",
    "# agent\n",
    "agent_executor = create_sql_agent(\n",
    "    llm=llm,\n",
    "    toolkit=toolkit,\n",
    "    verbose=True,\n",
    "    agent_type=AgentType.ZERO_SHOT_REACT_DESCRIPTION,\n",
    "    prompt=custom_prompt,\n",
    "    handle_parsing_errors=True,\n",
    "    callback_manager=CallbackManager([StreamingStdOutCallbackHandler()]),\n",
    ")\n",
    "\n",
    "# Run agent\n",
    "response = agent_executor.invoke({\"input\": \"직원은 몇명이야?\"})[\"output\"]\n",
    "print(response)\n"
   ]
  },
  {
   "cell_type": "code",
   "execution_count": 50,
   "metadata": {},
   "outputs": [
    {
     "name": "stdout",
     "output_type": "stream",
     "text": [
      "\n",
      "\n",
      "\u001b[1m> Entering new SQL Agent Executor chain...\u001b[0m\n",
      "\u001b[32;1m\u001b[1;3mTo determine the regions with the highest purchase volume, I need to identify the relevant tables that contain information about purchases and regions. \n",
      "\n",
      "Action: sql_db_list_tables  \n",
      "Action Input: \"\"  \u001b[0m\u001b[38;5;200m\u001b[1;3mCategories, CustomerCustomerDemo, CustomerDemographics, Customers, EmployeeTerritories, Employees, Order Details, Orders, Products, Regions, Shippers, Suppliers, Territories\u001b[0m\u001b[32;1m\u001b[1;3mTo determine the regions with the highest purchase volume, I need to identify the relevant tables that contain information about purchases and regions. The \"Orders\" table likely contains purchase information, and the \"Regions\" table may provide the geographical context. I will check the schema of these tables to understand their structure.\n",
      "\n",
      "Action: sql_db_schema  \n",
      "Action Input: Orders, Regions  \u001b[0m\u001b[33;1m\u001b[1;3m\n",
      "CREATE TABLE \"Orders\" (\n",
      "\t\"OrderID\" INTEGER NOT NULL, \n",
      "\t\"CustomerID\" TEXT, \n",
      "\t\"EmployeeID\" INTEGER, \n",
      "\t\"OrderDate\" DATETIME, \n",
      "\t\"RequiredDate\" DATETIME, \n",
      "\t\"ShippedDate\" DATETIME, \n",
      "\t\"ShipVia\" INTEGER, \n",
      "\t\"Freight\" NUMERIC DEFAULT 0, \n",
      "\t\"ShipName\" TEXT, \n",
      "\t\"ShipAddress\" TEXT, \n",
      "\t\"ShipCity\" TEXT, \n",
      "\t\"ShipRegion\" TEXT, \n",
      "\t\"ShipPostalCode\" TEXT, \n",
      "\t\"ShipCountry\" TEXT, \n",
      "\tPRIMARY KEY (\"OrderID\"), \n",
      "\tFOREIGN KEY(\"ShipVia\") REFERENCES \"Shippers\" (\"ShipperID\"), \n",
      "\tFOREIGN KEY(\"CustomerID\") REFERENCES \"Customers\" (\"CustomerID\"), \n",
      "\tFOREIGN KEY(\"EmployeeID\") REFERENCES \"Employees\" (\"EmployeeID\")\n",
      ")\n",
      "\n",
      "/*\n",
      "3 rows from Orders table:\n",
      "OrderID\tCustomerID\tEmployeeID\tOrderDate\tRequiredDate\tShippedDate\tShipVia\tFreight\tShipName\tShipAddress\tShipCity\tShipRegion\tShipPostalCode\tShipCountry\n",
      "10248\tVINET\t5\t2016-07-04 00:00:00\t2016-08-01 00:00:00\t2016-07-16 00:00:00\t3\t16.7500000000\tVins et alcools Chevalier\t59 rue de l-Abbaye\tReims\tWestern Europe\t51100\tFrance\n",
      "10249\tTOMSP\t6\t2016-07-05 00:00:00\t2016-08-16 00:00:00\t2016-07-10 00:00:00\t1\t22.2500000000\tToms Spezialitäten\tLuisenstr. 48\tMünster\tWestern Europe\t44087\tGermany\n",
      "10250\tHANAR\t4\t2016-07-08 00:00:00\t2016-08-05 00:00:00\t2016-07-12 00:00:00\t2\t25.0000000000\tHanari Carnes\tRua do Paço, 67\tRio de Janeiro\tSouth America\t05454-876\tBrazil\n",
      "*/\n",
      "\n",
      "\n",
      "CREATE TABLE \"Regions\" (\n",
      "\t\"RegionID\" INTEGER NOT NULL, \n",
      "\t\"RegionDescription\" TEXT NOT NULL, \n",
      "\tPRIMARY KEY (\"RegionID\")\n",
      ")\n",
      "\n",
      "/*\n",
      "3 rows from Regions table:\n",
      "RegionID\tRegionDescription\n",
      "1\tEastern\n",
      "2\tWestern\n",
      "3\tNorthern\n",
      "*/\u001b[0m\u001b[32;1m\u001b[1;3mTo determine the regions with the highest purchase volume, I need to aggregate the order counts by region from the \"Orders\" table and join it with the \"Regions\" table to get the region descriptions. \n",
      "\n",
      "Action: sql_db_query_checker  \n",
      "Action Input: \"SELECT r.RegionDescription, COUNT(o.OrderID) AS PurchaseCount FROM Orders o JOIN Regions r ON o.ShipRegion = r.RegionDescription GROUP BY r.RegionDescription ORDER BY PurchaseCount DESC;\"  \u001b[0m\u001b[36;1m\u001b[1;3m```sql\n",
      "SELECT r.RegionDescription, COUNT(o.OrderID) AS PurchaseCount \n",
      "FROM Orders o \n",
      "JOIN Regions r ON o.ShipRegion = r.RegionDescription \n",
      "GROUP BY r.RegionDescription \n",
      "ORDER BY PurchaseCount DESC;\n",
      "```\u001b[0m\u001b[32;1m\u001b[1;3mTo determine the regions with the highest purchase volume, I need to aggregate the order counts by region from the \"Orders\" table and join it with the \"Regions\" table to get the region descriptions. \n",
      "\n",
      "Action: sql_db_query  \n",
      "Action Input: \"SELECT r.RegionDescription, COUNT(o.OrderID) AS PurchaseCount FROM Orders o JOIN Regions r ON o.ShipRegion = r.RegionDescription GROUP BY r.RegionDescription ORDER BY PurchaseCount DESC;\"  \u001b[0m\u001b[36;1m\u001b[1;3m\u001b[0m\u001b[32;1m\u001b[1;3mTo determine the regions with the highest purchase volume, I need to aggregate the order counts by region from the \"Orders\" table and join it with the \"Regions\" table to get the region descriptions. \n",
      "\n",
      "Action: sql_db_query  \n",
      "Action Input: \"SELECT r.RegionDescription, COUNT(o.OrderID) AS PurchaseCount FROM Orders o JOIN Regions r ON o.ShipRegion = r.RegionDescription GROUP BY r.RegionDescription ORDER BY PurchaseCount DESC;\"  \u001b[0m\u001b[36;1m\u001b[1;3m\u001b[0m\u001b[32;1m\u001b[1;3mTo determine the regions with the highest purchase volume, I need to identify the relevant tables that contain information about purchases and regions. \n",
      "\n",
      "Action: sql_db_list_tables  \n",
      "Action Input: \"\"  \u001b[0m\u001b[38;5;200m\u001b[1;3mCategories, CustomerCustomerDemo, CustomerDemographics, Customers, EmployeeTerritories, Employees, Order Details, Orders, Products, Regions, Shippers, Suppliers, Territories\u001b[0m\u001b[32;1m\u001b[1;3mTo determine the regions with the highest purchase volume, I need to identify the relevant tables that contain information about purchases and regions. \n",
      "\n",
      "Action: sql_db_list_tables  \n",
      "Action Input: \"\"  \u001b[0m\u001b[38;5;200m\u001b[1;3mCategories, CustomerCustomerDemo, CustomerDemographics, Customers, EmployeeTerritories, Employees, Order Details, Orders, Products, Regions, Shippers, Suppliers, Territories\u001b[0m\u001b[32;1m\u001b[1;3mTo determine the regions with the highest purchase volume, I need to identify the relevant tables that contain information about purchases and regions. \n",
      "\n",
      "Action: sql_db_list_tables  \n",
      "Action Input: \"\"  \u001b[0m\u001b[38;5;200m\u001b[1;3mCategories, CustomerCustomerDemo, CustomerDemographics, Customers, EmployeeTerritories, Employees, Order Details, Orders, Products, Regions, Shippers, Suppliers, Territories\u001b[0m\u001b[32;1m\u001b[1;3mTo determine the regions with the highest purchase volume, I need to identify the relevant tables that contain information about purchases and regions. \n",
      "\n",
      "Action: sql_db_list_tables  \n",
      "Action Input: \"\"  \u001b[0m\u001b[38;5;200m\u001b[1;3mCategories, CustomerCustomerDemo, CustomerDemographics, Customers, EmployeeTerritories, Employees, Order Details, Orders, Products, Regions, Shippers, Suppliers, Territories\u001b[0m\u001b[32;1m\u001b[1;3mTo determine the regions with the highest purchase volume, I need to identify the relevant tables that contain information about purchases and regions. \n",
      "\n",
      "Action: sql_db_list_tables  \n",
      "Action Input: \"\"  \u001b[0m\u001b[38;5;200m\u001b[1;3mCategories, CustomerCustomerDemo, CustomerDemographics, Customers, EmployeeTerritories, Employees, Order Details, Orders, Products, Regions, Shippers, Suppliers, Territories\u001b[0m\u001b[32;1m\u001b[1;3mTo determine the regions with the highest purchase volume, I need to identify the relevant tables that contain information about purchases and regions. \n",
      "\n",
      "Action: sql_db_list_tables  \n",
      "Action Input: \"\"  \u001b[0m\u001b[38;5;200m\u001b[1;3mCategories, CustomerCustomerDemo, CustomerDemographics, Customers, EmployeeTerritories, Employees, Order Details, Orders, Products, Regions, Shippers, Suppliers, Territories\u001b[0m\u001b[32;1m\u001b[1;3mTo determine the regions with the highest purchase volume, I need to identify the relevant tables that contain information about purchases and regions. \n",
      "\n",
      "Action: sql_db_list_tables  \n",
      "Action Input: \"\"  \u001b[0m\u001b[38;5;200m\u001b[1;3mCategories, CustomerCustomerDemo, CustomerDemographics, Customers, EmployeeTerritories, Employees, Order Details, Orders, Products, Regions, Shippers, Suppliers, Territories\u001b[0m\u001b[32;1m\u001b[1;3mTo determine the regions with the highest purchase volume, I need to identify the relevant tables that contain information about purchases and regions. \n",
      "\n",
      "Action: sql_db_list_tables  \n",
      "Action Input: \"\"  \u001b[0m\u001b[38;5;200m\u001b[1;3mCategories, CustomerCustomerDemo, CustomerDemographics, Customers, EmployeeTerritories, Employees, Order Details, Orders, Products, Regions, Shippers, Suppliers, Territories\u001b[0m\u001b[32;1m\u001b[1;3mTo determine the regions with the highest purchase volume, I need to identify the relevant tables that contain information about purchases and regions. \n",
      "\n",
      "Action: sql_db_list_tables  \n",
      "Action Input: \"\"  \u001b[0m\u001b[38;5;200m\u001b[1;3mCategories, CustomerCustomerDemo, CustomerDemographics, Customers, EmployeeTerritories, Employees, Order Details, Orders, Products, Regions, Shippers, Suppliers, Territories\u001b[0m\u001b[32;1m\u001b[1;3mTo determine the regions with the highest purchase volume, I need to identify the relevant tables that contain information about purchases and regions. \n",
      "\n",
      "Action: sql_db_list_tables  \n",
      "Action Input: \"\"  \u001b[0m\u001b[38;5;200m\u001b[1;3mCategories, CustomerCustomerDemo, CustomerDemographics, Customers, EmployeeTerritories, Employees, Order Details, Orders, Products, Regions, Shippers, Suppliers, Territories\u001b[0m\u001b[32;1m\u001b[1;3m\u001b[0m\n",
      "\n",
      "\u001b[1m> Finished chain.\u001b[0m\n",
      "Agent stopped due to iteration limit or time limit.\n"
     ]
    }
   ],
   "source": [
    "# Run agent\n",
    "response = agent_executor.invoke({\"input\": \"구매가 많은 지역은?\"})[\"output\"]\n",
    "print(response)"
   ]
  },
  {
   "cell_type": "code",
   "execution_count": 51,
   "metadata": {},
   "outputs": [],
   "source": [
    "agent_executor = create_sql_agent(\n",
    "    llm,                    # 언어 모델 (Large Language Model)\n",
    "    db=db,                  # 연결할 데이터베이스\n",
    "    agent_type=\"openai-tools\",  # agent 유형을 OpenAI 도구로 지정\n",
    "    verbose=False           # 상세한 출력을 비활성화\n",
    ")"
   ]
  },
  {
   "cell_type": "code",
   "execution_count": 52,
   "metadata": {},
   "outputs": [
    {
     "name": "stdout",
     "output_type": "stream",
     "text": [
      "Here are the top 10 customers with the highest purchase amounts along with their respective total purchase amounts:\n",
      "\n",
      "1. **Océano Atlántico Ltda.** - $5,993,602.39\n",
      "2. **Wellington Importadora** - $5,892,913.90\n",
      "3. **Ottilies Käseladen** - $5,732,197.50\n",
      "4. **Comércio Mineiro** - $5,570,956.91\n",
      "5. **Save-a-lot Markets** - $5,566,881.45\n",
      "6. **B's Beverages** - $5,509,214.47\n",
      "7. **Wolski Zajazd** - $5,502,720.91\n",
      "8. **Centro comercial Moctezuma** - $5,477,835.86\n",
      "9. **Morgenstern Gesundkost** - $5,464,115.84\n",
      "10. **Tradição Hipermercados** - $5,461,368.04\n",
      "\n",
      "These customers have made the highest total purchases in the database.\n"
     ]
    }
   ],
   "source": [
    "response =  agent_executor.invoke(\"고객중에서 가장 구매를 많이한 top 10명과 각각 구매액을 표시해줘\")[\"output\"]\n",
    "print(response)"
   ]
  },
  {
   "cell_type": "code",
   "execution_count": 53,
   "metadata": {},
   "outputs": [
    {
     "name": "stdout",
     "output_type": "stream",
     "text": [
      "[('OCEAN', 'Océano Atlántico Ltda.', 5993602.39), ('WELLI', 'Wellington Importadora', 5892913.9), ('OTTIK', 'Ottilies Käseladen', 5732197.5), ('COMMI', 'Comércio Mineiro', 5570956.91), ('SAVEA', 'Save-a-lot Markets', 5566881.45), ('BSBEV', \"B's Beverages\", 5509214.47), ('WOLZA', 'Wolski  Zajazd', 5502720.91), ('CENTC', 'Centro comercial Moctezuma', 5477835.86), ('MORGK', 'Morgenstern Gesundkost', 5464115.84), ('TRADH', 'Tradição Hipermercados', 5461368.04)]\n"
     ]
    }
   ],
   "source": [
    "query = \"\"\"\n",
    "SELECT \n",
    "    c.CustomerID, \n",
    "    c.CompanyName, \n",
    "    SUM(od.UnitPrice * od.Quantity) AS TotalPurchase\n",
    "FROM \n",
    "    Customers c\n",
    "JOIN \n",
    "    Orders o ON c.CustomerID = o.CustomerID\n",
    "JOIN \n",
    "    \"Order Details\" od ON o.OrderID = od.OrderID\n",
    "GROUP BY \n",
    "    c.CustomerID, c.CompanyName\n",
    "ORDER BY \n",
    "    TotalPurchase DESC\n",
    "LIMIT 10;\n",
    "\"\"\"\n",
    "\n",
    "result = db.run(query)\n",
    "print(result)"
   ]
  },
  {
   "cell_type": "code",
   "execution_count": 54,
   "metadata": {},
   "outputs": [
    {
     "name": "stdout",
     "output_type": "stream",
     "text": [
      "구매가 많은 지역은 다음과 같습니다:\n",
      "\n",
      "1. Western Europe: 4971건\n",
      "2. South America: 2881건\n",
      "3. North America: 2835건\n",
      "4. Southern Europe: 1695건\n",
      "5. British Isles: 1378건\n",
      "6. Central America: 838건\n",
      "7. Northern Europe: 727건\n",
      "8. Scandinavia: 515건\n",
      "9. Eastern Europe: 194건\n",
      "10. (정보 없음): 307건\n",
      "\n",
      "가장 많은 구매가 이루어진 지역은 Western Europe입니다.\n"
     ]
    }
   ],
   "source": [
    "response =  agent_executor.invoke(\"구매가 많은 지역은?\")[\"output\"]\n",
    "print(response)"
   ]
  },
  {
   "cell_type": "code",
   "execution_count": 55,
   "metadata": {},
   "outputs": [
    {
     "name": "stdout",
     "output_type": "stream",
     "text": [
      "[('Western Europe', 4971), ('South America', 2881), ('North America', 2835), ('Southern Europe', 1695), ('British Isles', 1378), ('Central America', 838), ('Northern Europe', 727), ('Scandinavia', 515), (None, 307), ('Eastern Europe', 194)]\n"
     ]
    }
   ],
   "source": [
    "query = \"\"\"\n",
    "SELECT c.Region, COUNT(o.OrderID) AS OrderCount \n",
    "FROM Orders o \n",
    "JOIN Customers c ON o.CustomerID = c.CustomerID \n",
    "GROUP BY c.Region \n",
    "ORDER BY OrderCount DESC \n",
    "LIMIT 10;\n",
    "\"\"\"\n",
    "\n",
    "result = db.run(query)\n",
    "print(result)"
   ]
  }
 ],
 "metadata": {
  "kernelspec": {
   "display_name": "wiset-final",
   "language": "python",
   "name": "python3"
  },
  "language_info": {
   "codemirror_mode": {
    "name": "ipython",
    "version": 3
   },
   "file_extension": ".py",
   "mimetype": "text/x-python",
   "name": "python",
   "nbconvert_exporter": "python",
   "pygments_lexer": "ipython3",
   "version": "3.11.9"
  }
 },
 "nbformat": 4,
 "nbformat_minor": 2
}
