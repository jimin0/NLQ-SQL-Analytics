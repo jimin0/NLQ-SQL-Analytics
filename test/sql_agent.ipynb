{
 "cells": [
  {
   "cell_type": "markdown",
   "metadata": {},
   "source": [
    "## SQL AGENT"
   ]
  },
  {
   "cell_type": "code",
   "execution_count": 1,
   "metadata": {},
   "outputs": [
    {
     "data": {
      "text/plain": [
       "True"
      ]
     },
     "execution_count": 1,
     "metadata": {},
     "output_type": "execute_result"
    }
   ],
   "source": [
    "import warnings\n",
    "import os\n",
    "from dotenv import load_dotenv\n",
    "load_dotenv()\n",
    "\n",
    "warnings.filterwarnings(\"ignore\")\n",
    "load_dotenv()\n"
   ]
  },
  {
   "cell_type": "code",
   "execution_count": null,
   "metadata": {},
   "outputs": [],
   "source": [
    "from langchain_community.utilities.sql_database import SQLDatabase\n",
    "import os\n",
    "\n",
    "current_dir = os.getcwd()\n",
    "\n",
    "db_path = os.path.join(current_dir, \"data\", \"northwind.sqlite\")\n",
    "print(db_path)\n",
    "\n",
    "\n",
    "if not os.path.exists(db_path):\n",
    "    raise Exception(\"데이터베이스 파일이 존재하지 않습니다.\")\n",
    "\n",
    "# SQLite 데이터베이스 URI 생성\n",
    "db_uri = f\"sqlite:///{db_path}\"\n",
    "\n",
    "# LangChain SQLDatabase 객체 생성\n",
    "db = SQLDatabase.from_uri(db_uri, sample_rows_in_table_info=0)\n",
    "\n",
    "print(db)\n",
    "\n",
    "print(\"Databases dialect:\", db.dialect)\n",
    "\n",
    "# # 사용가능한 테이블 이름\n",
    "# print(\"Usable table names:\", db.get_table_names())\n",
    "\n",
    "# employees 테이블에서 모든 데이터 조회\n",
    "# result = db.run(\"SELECT * FROM employees\")\n",
    "# print(result)"
   ]
  },
  {
   "cell_type": "markdown",
   "metadata": {},
   "source": [
    "## OpenAI langchain text to SQL"
   ]
  },
  {
   "cell_type": "code",
   "execution_count": 3,
   "metadata": {},
   "outputs": [
    {
     "data": {
      "text/plain": [
       "'SELECT \"employee_id\", \"first_name\", \"last_name\" \\nFROM employees \\nLIMIT 10;'"
      ]
     },
     "execution_count": 3,
     "metadata": {},
     "output_type": "execute_result"
    }
   ],
   "source": [
    "from langchain_community.utilities.sql_database import SQLDatabase\n",
    "from langchain.chains import create_sql_query_chain\n",
    "from langchain_openai import ChatOpenAI\n",
    "import os\n",
    "\n",
    "\n",
    "llm = ChatOpenAI(temperature=0)\n",
    "chain = create_sql_query_chain(llm, db)\n",
    "response = chain.invoke({\"question\": \"처음 10명의 직원의 이름을 표시해줘\"})\n",
    "\n",
    "response"
   ]
  },
  {
   "cell_type": "code",
   "execution_count": 4,
   "metadata": {},
   "outputs": [
    {
     "data": {
      "text/plain": [
       "\"[('employee_id', 'Nancy', 'Freehafer'), ('employee_id', 'Andrew', 'Cencini'), ('employee_id', 'Jan', 'Kotas'), ('employee_id', 'Mariya', 'Sergienko'), ('employee_id', 'Steven', 'Thorpe'), ('employee_id', 'Michael', 'Neipper'), ('employee_id', 'Robert', 'Zare'), ('employee_id', 'Laura', 'Giussani'), ('employee_id', 'Anne', 'Hellung-Larsen')]\""
      ]
     },
     "execution_count": 4,
     "metadata": {},
     "output_type": "execute_result"
    }
   ],
   "source": [
    "db.run(response)"
   ]
  },
  {
   "cell_type": "code",
   "execution_count": 5,
   "metadata": {},
   "outputs": [
    {
     "data": {
      "text/plain": [
       "'[(9,)]'"
      ]
     },
     "execution_count": 5,
     "metadata": {},
     "output_type": "execute_result"
    }
   ],
   "source": [
    "response = chain.invoke({\"question\": \"직원은 모두 몇명이야?\"})\n",
    "db.run(response)"
   ]
  },
  {
   "cell_type": "code",
   "execution_count": 6,
   "metadata": {},
   "outputs": [
    {
     "data": {
      "text/plain": [
       "'[(9,)]'"
      ]
     },
     "execution_count": 6,
     "metadata": {},
     "output_type": "execute_result"
    }
   ],
   "source": [
    "# SQL 데이터베이스와 상호 작용하기 위한 도구\n",
    "from langchain_community.tools.sql_database.tool import QuerySQLDataBaseTool\n",
    "\n",
    "execute_query = QuerySQLDataBaseTool(db=db)\n",
    "\n",
    "# LLM 써서 자연어 질문을 SQL 쿼리로 변환하는 체인 생성\n",
    "write_query = create_sql_query_chain(llm, db)\n",
    "\n",
    "# SQL 쿼리 생성과 실행을하는 체인 생성|\n",
    "chain = write_query | execute_query\n",
    "\n",
    "chain.invoke({\"question\": \"직원은 모두 몇명이야?\"})"
   ]
  },
  {
   "cell_type": "code",
   "execution_count": 7,
   "metadata": {},
   "outputs": [],
   "source": [
    "# LangChain agent를 활용해서 SQL query를 실행하고 결과를 출력하는 코드\n",
    "\n",
    "# SQL 데이터베이스와 상호작용할 수 있는 agent를 생성하는 함수를 임포트합니다\n",
    "from langchain_community.agent_toolkits import create_sql_agent\n",
    "\n",
    "# SQL agent를 생성합니다\n",
    "agent_executor = create_sql_agent(\n",
    "    llm,  # 언어 모델 (Large Language Model)\n",
    "    db=db,  # 연결할 데이터베이스\n",
    "    agent_type=\"openai-tools\",  # agent 유형을 OpenAI 도구로 지정\n",
    "    verbose=True,  # 상세한 출력을 비활성화\n",
    ")"
   ]
  },
  {
   "cell_type": "code",
   "execution_count": 8,
   "metadata": {},
   "outputs": [
    {
     "name": "stdout",
     "output_type": "stream",
     "text": [
      "\n",
      "\n",
      "\u001b[1m> Entering new SQL Agent Executor chain...\u001b[0m\n",
      "\u001b[32;1m\u001b[1;3m\n",
      "Invoking: `sql_db_list_tables` with `{}`\n",
      "\n",
      "\n",
      "\u001b[0m\u001b[38;5;200m\u001b[1;3mcustomers, employee_privileges, employees, inventory_transaction_types, inventory_transactions, invoices, order_details, order_details_status, orders, orders_status, orders_tax_status, privileges, products, purchase_order_details, purchase_order_status, purchase_orders, sales_reports, shippers, strings, suppliers\u001b[0m\u001b[32;1m\u001b[1;3m\n",
      "Invoking: `sql_db_schema` with `{'table_names': 'employees'}`\n",
      "\n",
      "\n",
      "\u001b[0m\u001b[33;1m\u001b[1;3m\n",
      "CREATE TABLE employees (\n",
      ")\u001b[0m\u001b[32;1m\u001b[1;3m\n",
      "Invoking: `sql_db_query` with `{'query': 'SELECT COUNT(*) AS employee_count, city FROM employees GROUP BY city ORDER BY employee_count DESC LIMIT 10'}`\n",
      "responded: It seems like the schema information for the `employees` table is not available. Let me try querying the table again to get more details.\n",
      "\n",
      "\u001b[0m\u001b[36;1m\u001b[1;3m[(4, 'Seattle'), (3, 'Redmond'), (1, 'Kirkland'), (1, 'Bellevue')]\u001b[0m\u001b[32;1m\u001b[1;3mThe region with the most employees is Seattle, with 4 employees. The next highest regions are Redmond with 3 employees, Kirkland with 1 employee, and Bellevue with 1 employee.\u001b[0m\n",
      "\n",
      "\u001b[1m> Finished chain.\u001b[0m\n",
      "Generated Query: The region with the most employees is Seattle, with 4 employees. The next highest regions are Redmond with 3 employees, Kirkland with 1 employee, and Bellevue with 1 employee.\n"
     ]
    }
   ],
   "source": [
    "response = agent_executor.invoke(\"직원이 많이 있는 지역은?\")[\"output\"]\n",
    "print(\"Generated Query:\", response)"
   ]
  },
  {
   "cell_type": "code",
   "execution_count": 9,
   "metadata": {},
   "outputs": [
    {
     "name": "stdout",
     "output_type": "stream",
     "text": [
      "\n",
      "\n",
      "\u001b[1m> Entering new SQL Agent Executor chain...\u001b[0m\n",
      "\u001b[32;1m\u001b[1;3m\n",
      "Invoking: `sql_db_list_tables` with `{}`\n",
      "\n",
      "\n",
      "\u001b[0m\u001b[38;5;200m\u001b[1;3mcustomers, employee_privileges, employees, inventory_transaction_types, inventory_transactions, invoices, order_details, order_details_status, orders, orders_status, orders_tax_status, privileges, products, purchase_order_details, purchase_order_status, purchase_orders, sales_reports, shippers, strings, suppliers\u001b[0m\u001b[32;1m\u001b[1;3m\n",
      "Invoking: `sql_db_schema` with `{'table_names': 'orders, customers'}`\n",
      "\n",
      "\n",
      "\u001b[0m\u001b[33;1m\u001b[1;3m\n",
      "CREATE TABLE customers (\n",
      ")\n",
      "\n",
      "\n",
      "CREATE TABLE orders (\n",
      ")\u001b[0m\u001b[32;1m\u001b[1;3m\n",
      "Invoking: `sql_db_query` with `{'query': 'SELECT region, COUNT(*) AS order_count FROM orders GROUP BY region ORDER BY order_count DESC LIMIT 1'}`\n",
      "responded: I will query the \"orders\" table to find the region with the most orders.\n",
      "\n",
      "\u001b[0m\u001b[36;1m\u001b[1;3mError: (sqlite3.OperationalError) no such column: region\n",
      "[SQL: SELECT region, COUNT(*) AS order_count FROM orders GROUP BY region ORDER BY order_count DESC LIMIT 1]\n",
      "(Background on this error at: https://sqlalche.me/e/20/e3q8)\u001b[0m\u001b[32;1m\u001b[1;3m\n",
      "Invoking: `sql_db_schema` with `{'table_names': 'customers'}`\n",
      "\n",
      "\n",
      "\u001b[0m\u001b[33;1m\u001b[1;3m\n",
      "CREATE TABLE customers (\n",
      ")\u001b[0m\u001b[32;1m\u001b[1;3m\n",
      "Invoking: `sql_db_schema` with `{'table_names': 'customers'}`\n",
      "responded: I made a mistake in my query. It seems that the \"orders\" table does not have a column named \"region\". Let me check the schema of the \"customers\" table to see if it contains the region information.\n",
      "\n",
      "\u001b[0m\u001b[33;1m\u001b[1;3m\n",
      "CREATE TABLE customers (\n",
      ")\u001b[0m\u001b[32;1m\u001b[1;3mIt appears that the \"customers\" table schema does not provide any relevant information about the region. Unfortunately, without the necessary schema information, I am unable to determine the region with the most orders.\u001b[0m\n",
      "\n",
      "\u001b[1m> Finished chain.\u001b[0m\n",
      "Generated Query: It appears that the \"customers\" table schema does not provide any relevant information about the region. Unfortunately, without the necessary schema information, I am unable to determine the region with the most orders.\n"
     ]
    }
   ],
   "source": [
    "# 주문이 가장 많은 지역을 찾는 질문을 영어로\n",
    "response = agent_executor.invoke(\"What is the region with the most orders?\")[\"output\"]\n",
    "print(\"Generated Query:\", response)"
   ]
  },
  {
   "cell_type": "code",
   "execution_count": 10,
   "metadata": {},
   "outputs": [
    {
     "name": "stdout",
     "output_type": "stream",
     "text": [
      "Correct Query Result: [('Portland', 6)]\n"
     ]
    }
   ],
   "source": [
    "# 필요한 열 정보가 있다고 가정한 올바른 쿼리\n",
    "correct_query = \"\"\"\n",
    "SELECT customers.city, COUNT(orders.id) AS order_count\n",
    "FROM customers\n",
    "JOIN orders ON customers.id = orders.customer_id\n",
    "GROUP BY customers.city\n",
    "ORDER BY order_count DESC\n",
    "LIMIT 1;\n",
    "\"\"\"\n",
    "result = db.run(correct_query)\n",
    "print(\"Correct Query Result:\", result)\n"
   ]
  },
  {
   "cell_type": "code",
   "execution_count": 11,
   "metadata": {},
   "outputs": [
    {
     "name": "stdout",
     "output_type": "stream",
     "text": [
      "\n",
      "\n",
      "\u001b[1m> Entering new SQL Agent Executor chain...\u001b[0m\n",
      "\u001b[32;1m\u001b[1;3m\n",
      "Invoking: `sql_db_query` with `{'query': 'SELECT city, COUNT(*) as order_count FROM customers JOIN orders ON customers.id = orders.customer_id GROUP BY city ORDER BY order_count DESC LIMIT 10'}`\n",
      "\n",
      "\n",
      "\u001b[0m\u001b[36;1m\u001b[1;3m[('Portland', 6), ('Milwaukee', 6), ('Chicago', 6), ('New York', 5), ('Miami', 4), ('Memphis', 4), ('Las Vegas', 4), ('Denver', 4), ('Los Angelas', 3), ('Seattle', 2)]\u001b[0m\u001b[32;1m\u001b[1;3mThe regions with the highest number of orders are:\n",
      "1. Portland - 6 orders\n",
      "2. Milwaukee - 6 orders\n",
      "3. Chicago - 6 orders\n",
      "4. New York - 5 orders\n",
      "5. Miami - 4 orders\n",
      "6. Memphis - 4 orders\n",
      "7. Las Vegas - 4 orders\n",
      "8. Denver - 4 orders\n",
      "9. Los Angeles - 3 orders\n",
      "10. Seattle - 2 orders\u001b[0m\n",
      "\n",
      "\u001b[1m> Finished chain.\u001b[0m\n",
      "Generated Query: The regions with the highest number of orders are:\n",
      "1. Portland - 6 orders\n",
      "2. Milwaukee - 6 orders\n",
      "3. Chicago - 6 orders\n",
      "4. New York - 5 orders\n",
      "5. Miami - 4 orders\n",
      "6. Memphis - 4 orders\n",
      "7. Las Vegas - 4 orders\n",
      "8. Denver - 4 orders\n",
      "9. Los Angeles - 3 orders\n",
      "10. Seattle - 2 orders\n",
      "Correct Query Result: [('Portland', 6)]\n"
     ]
    }
   ],
   "source": [
    "from langchain_community.agent_toolkits import create_sql_agent\n",
    "from langchain_community.utilities.sql_database import SQLDatabase\n",
    "from langchain_openai import ChatOpenAI\n",
    "import os\n",
    "from  dotenv import load_dotenv\n",
    "\n",
    "load_dotenv()\n",
    "\n",
    "# 현재 디렉토리 경로\n",
    "current_dir = os.getcwd()\n",
    "\n",
    "# 데이터베이스 파일 경로\n",
    "db_path = os.path.join(current_dir, \"data\", \"northwind.sqlite\")\n",
    "\n",
    "# SQLite 데이터베이스 URI 생성\n",
    "db_uri = f\"sqlite:///{db_path}\"\n",
    "\n",
    "# LangChain SQLDatabase 객체 생성\n",
    "db = SQLDatabase.from_uri(db_uri)\n",
    "\n",
    "# LLM 모델 초기화\n",
    "llm = ChatOpenAI(temperature=0)\n",
    "\n",
    "# 수동으로 스키마 정보 제공\n",
    "schema_info = \"\"\"\n",
    "customers table:\n",
    "- id (integer, primary key)\n",
    "- company (varchar)\n",
    "- last_name (varchar)\n",
    "- first_name (varchar)\n",
    "- email_address (varchar)\n",
    "- job_title (varchar)\n",
    "- business_phone (varchar)\n",
    "- home_phone (varchar)\n",
    "- mobile_phone (varchar)\n",
    "- fax_number (varchar)\n",
    "- address (text)\n",
    "- city (varchar)\n",
    "- state_province (varchar)\n",
    "- zip_postal_code (varchar)\n",
    "- country_region (varchar)\n",
    "\n",
    "orders table:\n",
    "- id (integer, primary key)\n",
    "- employee_id (integer, foreign key to employees.id)\n",
    "- customer_id (integer, foreign key to customers.id)\n",
    "- order_date (datetime)\n",
    "- shipped_date (datetime)\n",
    "- shipper_id (integer, foreign key to shippers.id)\n",
    "- ship_name (varchar)\n",
    "- ship_address (text)\n",
    "- ship_city (varchar)\n",
    "- ship_state_province (varchar)\n",
    "- ship_zip_postal_code (varchar)\n",
    "- ship_country_region (varchar)\n",
    "- shipping_fee (decimal)\n",
    "- taxes (decimal)\n",
    "- payment_type (varchar)\n",
    "- paid_date (datetime)\n",
    "- notes (text)\n",
    "- tax_rate (double)\n",
    "- tax_status_id (tinyint)\n",
    "- status_id (tinyint)\n",
    "\"\"\"\n",
    "\n",
    "# SQL agent를 생성합니다\n",
    "agent_executor = create_sql_agent(\n",
    "    llm,\n",
    "    db=db,\n",
    "    agent_type=\"openai-tools\",\n",
    "    verbose=True,\n",
    "    top_k=10,\n",
    "    extra_tools=[],\n",
    "    suffix=f\"When analyzing the database, use this schema information:\\n{schema_info}\\n\\nHuman: \",\n",
    ")\n",
    "\n",
    "# 주문이 가장 많은 지역을 찾는 질문\n",
    "response = agent_executor.invoke(\"v\")[\"output\"]\n",
    "print(\"Generated Query:\", response)\n",
    "\n",
    "# 실제 쿼리 실행\n",
    "correct_query = \"\"\"\n",
    "SELECT customers.city, COUNT(orders.id) AS order_count\n",
    "FROM customers\n",
    "JOIN orders ON customers.id = orders.customer_id\n",
    "GROUP BY customers.city\n",
    "ORDER BY order_count DESC\n",
    "LIMIT 1;\n",
    "\"\"\"\n",
    "result = db.run(correct_query)\n",
    "print(\"Correct Query Result:\", result)"
   ]
  },
  {
   "cell_type": "code",
   "execution_count": null,
   "metadata": {},
   "outputs": [],
   "source": []
  }
 ],
 "metadata": {
  "kernelspec": {
   "display_name": "wiset-final",
   "language": "python",
   "name": "python3"
  },
  "language_info": {
   "codemirror_mode": {
    "name": "ipython",
    "version": 3
   },
   "file_extension": ".py",
   "mimetype": "text/x-python",
   "name": "python",
   "nbconvert_exporter": "python",
   "pygments_lexer": "ipython3",
   "version": "3.11.9"
  }
 },
 "nbformat": 4,
 "nbformat_minor": 2
}
