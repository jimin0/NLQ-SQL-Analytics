{
 "cells": [
  {
   "cell_type": "markdown",
   "metadata": {},
   "source": [
    "## SQL AGENT"
   ]
  },
  {
   "cell_type": "code",
   "execution_count": 1,
   "metadata": {},
   "outputs": [
    {
     "name": "stdout",
     "output_type": "stream",
     "text": [
      "/\n"
     ]
    }
   ],
   "source": [
    "import warnings\n",
    "import os\n",
    "from dotenv import load_dotenv\n",
    "load_dotenv()\n",
    "\n",
    "warnings.filterwarnings(\"ignore\")\n",
    "load_dotenv()\n"
   ]
  },
  {
   "cell_type": "code",
   "execution_count": 3,
   "metadata": {},
   "outputs": [
    {
     "name": "stdout",
     "output_type": "stream",
     "text": [
      "/Users/jiminking/Documents/김지민/projects/myproject/wiset_final_project/data/northwind.sqlite\n",
      "<langchain_community.utilities.sql_database.SQLDatabase object at 0x122258690>\n",
      "Databases dialect: sqlite\n"
     ]
    }
   ],
   "source": [
    "from langchain_community.utilities.sql_database import SQLDatabase\n",
    "import os\n",
    "\n",
    "current_dir = os.getcwd()\n",
    "\n",
    "db_path = os.path.join(current_dir, \"data\", \"northwind.sqlite\")\n",
    "print(db_path)\n",
    "\n",
    "\n",
    "if not os.path.exists(db_path):\n",
    "    raise Exception(\"데이터베이스 파일이 존재하지 않습니다.\")\n",
    "\n",
    "# SQLite 데이터베이스 URI 생성\n",
    "db_uri = f\"sqlite:///{db_path}\"\n",
    "\n",
    "# LangChain SQLDatabase 객체 생성\n",
    "db = SQLDatabase.from_uri(db_uri, sample_rows_in_table_info=0)\n",
    "\n",
    "print(db)\n",
    "\n",
    "print(\"Databases dialect:\", db.dialect)\n",
    "\n",
    "# # 사용가능한 테이블 이름\n",
    "# print(\"Usable table names:\", db.get_table_names())\n",
    "\n",
    "# employees 테이블에서 모든 데이터 조회\n",
    "# result = db.run(\"SELECT * FROM employees\")\n",
    "# print(result)"
   ]
  },
  {
   "cell_type": "markdown",
   "metadata": {},
   "source": [
    "## OpenAI langchain text to SQL"
   ]
  },
  {
   "cell_type": "code",
   "execution_count": 4,
   "metadata": {},
   "outputs": [
    {
     "data": {
      "text/plain": [
       "'SELECT \"employee_firstname\", \"employee_lastname\" \\nFROM employees \\nLIMIT 10;'"
      ]
     },
     "execution_count": 4,
     "metadata": {},
     "output_type": "execute_result"
    }
   ],
   "source": [
    "from langchain_community.utilities.sql_database import SQLDatabase\n",
    "from langchain.chains import create_sql_query_chain\n",
    "from langchain_openai import ChatOpenAI\n",
    "import os\n",
    "\n",
    "\n",
    "llm = ChatOpenAI(temperature=0)\n",
    "chain = create_sql_query_chain(llm, db)\n",
    "response = chain.invoke({\"question\": \"처음 10명의 직원의 이름을 표시해줘\"})\n",
    "\n",
    "response"
   ]
  },
  {
   "cell_type": "code",
   "execution_count": 5,
   "metadata": {},
   "outputs": [
    {
     "data": {
      "text/plain": [
       "\"[('employee_firstname', 'employee_lastname'), ('employee_firstname', 'employee_lastname'), ('employee_firstname', 'employee_lastname'), ('employee_firstname', 'employee_lastname'), ('employee_firstname', 'employee_lastname'), ('employee_firstname', 'employee_lastname'), ('employee_firstname', 'employee_lastname'), ('employee_firstname', 'employee_lastname'), ('employee_firstname', 'employee_lastname')]\""
      ]
     },
     "execution_count": 5,
     "metadata": {},
     "output_type": "execute_result"
    }
   ],
   "source": [
    "db.run(response)"
   ]
  },
  {
   "cell_type": "code",
   "execution_count": 6,
   "metadata": {},
   "outputs": [
    {
     "data": {
      "text/plain": [
       "'[(9,)]'"
      ]
     },
     "execution_count": 6,
     "metadata": {},
     "output_type": "execute_result"
    }
   ],
   "source": [
    "response = chain.invoke({\"question\": \"직원은 모두 몇명이야?\"})\n",
    "db.run(response)"
   ]
  },
  {
   "cell_type": "code",
   "execution_count": 88,
   "metadata": {},
   "outputs": [
    {
     "data": {
      "text/plain": [
       "'[(9,)]'"
      ]
     },
     "execution_count": 88,
     "metadata": {},
     "output_type": "execute_result"
    }
   ],
   "source": [
    "# SQL 데이터베이스와 상호 작용하기 위한 도구\n",
    "from langchain_community.tools.sql_database.tool import QuerySQLDataBaseTool\n",
    "\n",
    "execute_query = QuerySQLDataBaseTool(db=db)\n",
    "\n",
    "# LLM 써서 자연어 질문을 SQL 쿼리로 변환하는 체인 생성\n",
    "write_query = create_sql_query_chain(llm, db)\n",
    "\n",
    "# SQL 쿼리 생성과 실행을하는 체인 생성|\n",
    "chain = write_query | execute_query\n",
    "\n",
    "chain.invoke({\"question\": \"직원은 모두 몇명이야?\"})"
   ]
  },
  {
   "cell_type": "code",
   "execution_count": 89,
   "metadata": {},
   "outputs": [],
   "source": [
    "# LangChain agent를 활용해서 SQL query를 실행하고 결과를 출력하는 코드\n",
    "\n",
    "# SQL 데이터베이스와 상호작용할 수 있는 agent를 생성하는 함수를 임포트합니다\n",
    "from langchain_community.agent_toolkits import create_sql_agent\n",
    "\n",
    "# SQL agent를 생성합니다\n",
    "agent_executor = create_sql_agent(\n",
    "    llm,  # 언어 모델 (Large Language Model)\n",
    "    db=db,  # 연결할 데이터베이스\n",
    "    agent_type=\"openai-tools\",  # agent 유형을 OpenAI 도구로 지정\n",
    "    verbose=True,  # 상세한 출력을 비활성화\n",
    ")"
   ]
  },
  {
   "cell_type": "code",
   "execution_count": 107,
   "metadata": {},
   "outputs": [
    {
     "name": "stdout",
     "output_type": "stream",
     "text": [
      "\n",
      "\n",
      "\u001b[1m> Entering new SQL Agent Executor chain...\u001b[0m\n",
      "\u001b[32;1m\u001b[1;3m\n",
      "Invoking: `sql_db_list_tables` with `{}`\n",
      "\n",
      "\n",
      "\u001b[0m\u001b[38;5;200m\u001b[1;3mcustomers, employee_privileges, employees, inventory_transaction_types, inventory_transactions, invoices, order_details, order_details_status, orders, orders_status, orders_tax_status, privileges, products, purchase_order_details, purchase_order_status, purchase_orders, sales_reports, shippers, strings, suppliers\u001b[0m\u001b[32;1m\u001b[1;3m\n",
      "Invoking: `sql_db_schema` with `{'table_names': 'employees'}`\n",
      "\n",
      "\n",
      "\u001b[0m\u001b[33;1m\u001b[1;3m\n",
      "CREATE TABLE employees (\n",
      ")\u001b[0m\u001b[32;1m\u001b[1;3m\n",
      "Invoking: `sql_db_query` with `{'query': 'SELECT * FROM employees LIMIT 10'}`\n",
      "responded: It seems like the schema information for the \"employees\" table is not available. Let me try querying the table again to get more details.\n",
      "\n",
      "\u001b[0m\u001b[36;1m\u001b[1;3m[('1', 'Northwind Traders', 'Freehafer', 'Nancy', 'nancy@northwindtraders.com', 'Sales Representative', '(123)555-0100', '(123)555-0102', '', '(123)555-0103', '123 1st Avenue', 'Seattle', 'WA', '99999', 'USA', '#http://northwindtraders.com#', '', ''), ('2', 'Northwind Traders', 'Cencini', 'Andrew', 'andrew@northwindtraders.com', 'Vice President, Sales', '(123)555-0100', '(123)555-0102', '', '(123)555-0103', '123 2nd Avenue', 'Bellevue', 'WA', '99999', 'USA', 'http://northwindtraders.com#http://northwindtraders.com/#', 'Joined the company as a sales representative, was promoted to sales manager and was then named vice president of sales.', ''), ('3', 'Northwind Traders', 'Kotas', 'Jan', 'jan@northwindtraders.com', 'Sales Representative', '(123)555-0100', '(123)555-0102', '', '(123)555-0103', '123 3rd Avenue', 'Redmond', 'WA', '99999', 'USA', 'http://northwindtraders.com#http://northwindtraders.com/#', 'Was hired as a sales associate and was promoted to sales representative.', ''), ('4', 'Northwind Traders', 'Sergienko', 'Mariya', 'mariya@northwindtraders.com', 'Sales Representative', '(123)555-0100', '(123)555-0102', '', '(123)555-0103', '123 4th Avenue', 'Kirkland', 'WA', '99999', 'USA', 'http://northwindtraders.com#http://northwindtraders.com/#', '', ''), ('5', 'Northwind Traders', 'Thorpe', 'Steven', 'steven@northwindtraders.com', 'Sales Manager', '(123)555-0100', '(123)555-0102', '', '(123)555-0103', '123 5th Avenue', 'Seattle', 'WA', '99999', 'USA', 'http://northwindtraders.com#http://northwindtraders.com/#', 'Joined the company as a sales representative and was promoted to sales manager.  Fluent in French.', ''), ('6', 'Northwind Traders', 'Neipper', 'Michael', 'michael@northwindtraders.com', 'Sales Representative', '(123)555-0100', '(123)555-0102', '', '(123)555-0103', '123 6th Avenue', 'Redmond', 'WA', '99999', 'USA', 'http://northwindtraders.com#http://northwindtraders.com/#', 'Fluent in Japanese and can read and write French, Portuguese, and Spanish.', ''), ('7', 'Northwind Traders', 'Zare', 'Robert', 'robert@northwindtraders.com', 'Sales Representative', '(123)555-0100', '(123)555-0102', '', '(123)555-0103', '123 7th Avenue', 'Seattle', 'WA', '99999', 'USA', 'http://northwindtraders.com#http://northwindtraders.com/#', '', ''), ('8', 'Northwind Traders', 'Giussani', 'Laura', 'laura@northwindtraders.com', 'Sales Coordinator', '(123)555-0100', '(123)555-0102', '', '(123)555-0103', '123 8th Avenue', 'Redmond', 'WA', '99999', 'USA', 'http://northwindtraders.com#http://northwindtraders.com/#', 'Reads and writes French.', ''), ('9', 'Northwind Traders', 'Hellung-Larsen', 'Anne', 'anne@northwindtraders.com', 'Sales Representative', '(123)555-0100', '(123)555-0102', '', '(123)555-0103', '123 9th Avenue', 'Seattle', 'WA', '99999', 'USA', 'http://northwindtraders.com#http://northwindtraders.com/#', 'Fluent in French and German.', '')]\u001b[0m\u001b[32;1m\u001b[1;3mBased on the data from the \"employees\" table, we can determine the region with the most employees by counting the employees in each region. Here are the top regions with the most employees:\n",
      "\n",
      "1. Seattle - 4 employees\n",
      "2. Redmond - 3 employees\n",
      "3. Bellevue - 1 employee\n",
      "4. Kirkland - 1 employee\n",
      "\n",
      "Therefore, the region with the most employees is Seattle with 4 employees.\u001b[0m\n",
      "\n",
      "\u001b[1m> Finished chain.\u001b[0m\n",
      "Generated Query: Based on the data from the \"employees\" table, we can determine the region with the most employees by counting the employees in each region. Here are the top regions with the most employees:\n",
      "\n",
      "1. Seattle - 4 employees\n",
      "2. Redmond - 3 employees\n",
      "3. Bellevue - 1 employee\n",
      "4. Kirkland - 1 employee\n",
      "\n",
      "Therefore, the region with the most employees is Seattle with 4 employees.\n"
     ]
    }
   ],
   "source": [
    "response = agent_executor.invoke(\"직원이 많이 있는 지역은?\")[\"output\"]\n",
    "print(\"Generated Query:\", response)"
   ]
  },
  {
   "cell_type": "code",
   "execution_count": null,
   "metadata": {},
   "outputs": [],
   "source": [
    "# 주문이 가장 많은 지역을 찾는 질문을 영어로\n",
    "response = agent_executor.invoke(\"What is the region with the most orders?\")[\"output\"]\n",
    "print(\"Generated Query:\", response)"
   ]
  },
  {
   "cell_type": "code",
   "execution_count": 111,
   "metadata": {},
   "outputs": [
    {
     "name": "stdout",
     "output_type": "stream",
     "text": [
      "Correct Query Result: [('Portland', 6)]\n"
     ]
    }
   ],
   "source": [
    "# 필요한 열 정보가 있다고 가정한 올바른 쿼리\n",
    "correct_query = \"\"\"\n",
    "SELECT customers.city, COUNT(orders.id) AS order_count\n",
    "FROM customers\n",
    "JOIN orders ON customers.id = orders.customer_id\n",
    "GROUP BY customers.city\n",
    "ORDER BY order_count DESC\n",
    "LIMIT 1;\n",
    "\"\"\"\n",
    "result = db.run(correct_query)\n",
    "print(\"Correct Query Result:\", result)\n"
   ]
  },
  {
   "cell_type": "code",
   "execution_count": 8,
   "metadata": {},
   "outputs": [
    {
     "name": "stdout",
     "output_type": "stream",
     "text": [
      "\n",
      "\n",
      "\u001b[1m> Entering new SQL Agent Executor chain...\u001b[0m\n",
      "\u001b[32;1m\u001b[1;3m\n",
      "Invoking: `sql_db_query` with `{'query': 'SELECT ship_city, COUNT(*) AS order_count FROM orders GROUP BY ship_city ORDER BY order_count DESC LIMIT 1'}`\n",
      "\n",
      "\n",
      "\u001b[0m\u001b[36;1m\u001b[1;3m[('Portland', 6)]\u001b[0m\u001b[32;1m\u001b[1;3mThe city with the most orders is Portland, with a total of 6 orders.\u001b[0m\n",
      "\n",
      "\u001b[1m> Finished chain.\u001b[0m\n",
      "Generated Query: The city with the most orders is Portland, with a total of 6 orders.\n",
      "Correct Query Result: [('Portland', 6)]\n"
     ]
    }
   ],
   "source": [
    "from langchain_community.agent_toolkits import create_sql_agent\n",
    "from langchain_community.utilities.sql_database import SQLDatabase\n",
    "from langchain_openai import ChatOpenAI\n",
    "import os\n",
    "from  dotenv import load_dotenv\n",
    "\n",
    "load_dotenv()\n",
    "\n",
    "# 현재 디렉토리 경로\n",
    "current_dir = os.getcwd()\n",
    "\n",
    "# 데이터베이스 파일 경로\n",
    "db_path = os.path.join(current_dir, \"data\", \"northwind.sqlite\")\n",
    "\n",
    "# SQLite 데이터베이스 URI 생성\n",
    "db_uri = f\"sqlite:///{db_path}\"\n",
    "\n",
    "# LangChain SQLDatabase 객체 생성\n",
    "db = SQLDatabase.from_uri(db_uri)\n",
    "\n",
    "# LLM 모델 초기화\n",
    "llm = ChatOpenAI(temperature=0)\n",
    "\n",
    "# 수동으로 스키마 정보 제공\n",
    "schema_info = \"\"\"\n",
    "customers table:\n",
    "- id (integer, primary key)\n",
    "- company (varchar)\n",
    "- last_name (varchar)\n",
    "- first_name (varchar)\n",
    "- email_address (varchar)\n",
    "- job_title (varchar)\n",
    "- business_phone (varchar)\n",
    "- home_phone (varchar)\n",
    "- mobile_phone (varchar)\n",
    "- fax_number (varchar)\n",
    "- address (text)\n",
    "- city (varchar)\n",
    "- state_province (varchar)\n",
    "- zip_postal_code (varchar)\n",
    "- country_region (varchar)\n",
    "\n",
    "orders table:\n",
    "- id (integer, primary key)\n",
    "- employee_id (integer, foreign key to employees.id)\n",
    "- customer_id (integer, foreign key to customers.id)\n",
    "- order_date (datetime)\n",
    "- shipped_date (datetime)\n",
    "- shipper_id (integer, foreign key to shippers.id)\n",
    "- ship_name (varchar)\n",
    "- ship_address (text)\n",
    "- ship_city (varchar)\n",
    "- ship_state_province (varchar)\n",
    "- ship_zip_postal_code (varchar)\n",
    "- ship_country_region (varchar)\n",
    "- shipping_fee (decimal)\n",
    "- taxes (decimal)\n",
    "- payment_type (varchar)\n",
    "- paid_date (datetime)\n",
    "- notes (text)\n",
    "- tax_rate (double)\n",
    "- tax_status_id (tinyint)\n",
    "- status_id (tinyint)\n",
    "\"\"\"\n",
    "\n",
    "# SQL agent를 생성합니다\n",
    "agent_executor = create_sql_agent(\n",
    "    llm,\n",
    "    db=db,\n",
    "    agent_type=\"openai-tools\",\n",
    "    verbose=True,\n",
    "    top_k=10,\n",
    "    extra_tools=[],\n",
    "    suffix=f\"When analyzing the database, use this schema information:\\n{schema_info}\\n\\nHuman: \",\n",
    ")\n",
    "\n",
    "# 주문이 가장 많은 지역을 찾는 질문\n",
    "response = agent_executor.invoke(\"What is the city with the most orders?\")[\"output\"]\n",
    "print(\"Generated Query:\", response)\n",
    "\n",
    "# 실제 쿼리 실행\n",
    "correct_query = \"\"\"\n",
    "SELECT customers.city, COUNT(orders.id) AS order_count\n",
    "FROM customers\n",
    "JOIN orders ON customers.id = orders.customer_id\n",
    "GROUP BY customers.city\n",
    "ORDER BY order_count DESC\n",
    "LIMIT 1;\n",
    "\"\"\"\n",
    "result = db.run(correct_query)\n",
    "print(\"Correct Query Result:\", result)"
   ]
  },
  {
   "cell_type": "code",
   "execution_count": null,
   "metadata": {},
   "outputs": [],
   "source": []
  }
 ],
 "metadata": {
  "kernelspec": {
   "display_name": "wiset-final",
   "language": "python",
   "name": "python3"
  },
  "language_info": {
   "codemirror_mode": {
    "name": "ipython",
    "version": 3
   },
   "file_extension": ".py",
   "mimetype": "text/x-python",
   "name": "python",
   "nbconvert_exporter": "python",
   "pygments_lexer": "ipython3",
   "version": "3.11.9"
  }
 },
 "nbformat": 4,
 "nbformat_minor": 2
}
